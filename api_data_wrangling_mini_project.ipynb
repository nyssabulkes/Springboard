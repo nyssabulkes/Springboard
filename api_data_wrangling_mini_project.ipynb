{
 "cells": [
  {
   "cell_type": "markdown",
   "metadata": {},
   "source": [
    "This exercise will require you to pull some data from the Quandl API. Quandl is currently the most widely used aggregator of financial market data."
   ]
  },
  {
   "cell_type": "markdown",
   "metadata": {},
   "source": [
    "As a first step, you will need to register a free account on the http://www.quandl.com website."
   ]
  },
  {
   "cell_type": "markdown",
   "metadata": {},
   "source": [
    "After you register, you will be provided with a unique API key, that you should store:"
   ]
  },
  {
   "cell_type": "code",
   "execution_count": 1,
   "metadata": {},
   "outputs": [],
   "source": [
    "# Store the API key as a string - according to PEP8, constants are always named in all upper case\n",
    "API_KEY = 'STORED API KEY'"
   ]
  },
  {
   "cell_type": "markdown",
   "metadata": {},
   "source": [
    "Quandl has a large number of data sources, but, unfortunately, most of them require a Premium subscription. Still, there are also a good number of free datasets."
   ]
  },
  {
   "cell_type": "markdown",
   "metadata": {},
   "source": [
    "For this mini project, we will focus on equities data from the Frankfurt Stock Exhange (FSE), which is available for free. We'll try and analyze the stock prices of a company called Carl Zeiss Meditec, which manufactures tools for eye examinations, as well as medical lasers for laser eye surgery: https://www.zeiss.com/meditec/int/home.html. The company is listed under the stock ticker AFX_X."
   ]
  },
  {
   "cell_type": "markdown",
   "metadata": {},
   "source": [
    "You can find the detailed Quandl API instructions here: https://docs.quandl.com/docs/time-series"
   ]
  },
  {
   "cell_type": "markdown",
   "metadata": {},
   "source": [
    "While there is a dedicated Python package for connecting to the Quandl API, we would prefer that you use the *requests* package, which can be easily downloaded using *pip* or *conda*. You can find the documentation for the package here: http://docs.python-requests.org/en/master/ "
   ]
  },
  {
   "cell_type": "markdown",
   "metadata": {},
   "source": [
    "Finally, apart from the *requests* package, you are encouraged to not use any third party Python packages, such as *pandas*, and instead focus on what's available in the Python Standard Library (the *collections* module might come in handy: https://pymotw.com/3/collections/).\n",
    "Also, since you won't have access to DataFrames, you are encouraged to us Python's native data structures - preferably dictionaries, though some questions can also be answered using lists.\n",
    "You can read more on these data structures here: https://docs.python.org/3/tutorial/datastructures.html"
   ]
  },
  {
   "cell_type": "markdown",
   "metadata": {},
   "source": [
    "Keep in mind that the JSON responses you will be getting from the API map almost one-to-one to Python's dictionaries. Unfortunately, they can be very nested, so make sure you read up on indexing dictionaries in the documentation provided above."
   ]
  },
  {
   "cell_type": "code",
   "execution_count": 2,
   "metadata": {},
   "outputs": [],
   "source": [
    "# First, import the relevant modules\n",
    "import requests"
   ]
  },
  {
   "cell_type": "code",
   "execution_count": 3,
   "metadata": {},
   "outputs": [],
   "source": [
    "# Now, call the Quandl API and pull out a small sample of the data (only one day) to get a glimpse\n",
    "# into the JSON structure that will be returned\n",
    "\n",
    "url = 'https://www.quandl.com/api/v3/datasets/FSE/AFX_X/data.json?limit=1&api_key='API_KEY\n",
    "r = requests.get(url)"
   ]
  },
  {
   "cell_type": "code",
   "execution_count": 4,
   "metadata": {},
   "outputs": [
    {
     "data": {
      "text/plain": [
       "{'dataset_data': {'limit': 1,\n",
       "  'transform': None,\n",
       "  'column_index': None,\n",
       "  'column_names': ['Date',\n",
       "   'Open',\n",
       "   'High',\n",
       "   'Low',\n",
       "   'Close',\n",
       "   'Change',\n",
       "   'Traded Volume',\n",
       "   'Turnover',\n",
       "   'Last Price of the Day',\n",
       "   'Daily Traded Units',\n",
       "   'Daily Turnover'],\n",
       "  'start_date': '2000-06-07',\n",
       "  'end_date': '2018-08-17',\n",
       "  'frequency': 'daily',\n",
       "  'data': [['2018-08-17',\n",
       "    None,\n",
       "    72.35,\n",
       "    71.05,\n",
       "    71.9,\n",
       "    None,\n",
       "    84990.0,\n",
       "    6096498.0,\n",
       "    None,\n",
       "    None,\n",
       "    None]],\n",
       "  'collapse': None,\n",
       "  'order': None}}"
      ]
     },
     "execution_count": 4,
     "metadata": {},
     "output_type": "execute_result"
    }
   ],
   "source": [
    "# Inspect the JSON structure of the object you created, and take note of how nested it is,\n",
    "# as well as the overall structure\n",
    "\n",
    "json_data = r.json()\n",
    "json_data"
   ]
  },
  {
   "cell_type": "markdown",
   "metadata": {},
   "source": [
    "These are your tasks for this mini project:\n",
    "\n",
    "1. Collect data from the Franfurt Stock Exchange, for the ticker AFX_X, for the whole year 2017 (keep in mind that the date format is YYYY-MM-DD).\n",
    "2. Convert the returned JSON object into a Python dictionary.\n",
    "3. Calculate what the highest and lowest opening prices were for the stock in this period.\n",
    "4. What was the largest change in any one day (based on High and Low price)?\n",
    "5. What was the largest change between any two days (based on Closing Price)?\n",
    "6. What was the average daily trading volume during this year?\n",
    "7. (Optional) What was the median trading volume during this year. (Note: you may need to implement your own function for calculating the median.)"
   ]
  },
  {
   "cell_type": "markdown",
   "metadata": {
    "collapsed": true
   },
   "source": [
    "<b>#1: Collect data from the Frankfurt Stock Exchange, for the ticker AFX_X, for the year 2017</b>"
   ]
  },
  {
   "cell_type": "code",
   "execution_count": 5,
   "metadata": {},
   "outputs": [],
   "source": [
    "# Send and catch the request: r\n",
    "url = 'https://www.quandl.com/api/v3/datasets/FSE/AFX_X/data.json?start_date=2017-01-01&end_date=2017-12-31&api_key='API_KEY\n",
    "r = requests.get(url)"
   ]
  },
  {
   "cell_type": "markdown",
   "metadata": {},
   "source": [
    "<b>#2: Convert the returned JSON object into a Python dictionary</b>"
   ]
  },
  {
   "cell_type": "code",
   "execution_count": 6,
   "metadata": {},
   "outputs": [],
   "source": [
    "# Create dictionary: AFX_X_2017\n",
    "AFX_X_2017 = r.json()"
   ]
  },
  {
   "cell_type": "markdown",
   "metadata": {},
   "source": [
    "<b>#3: Calculate the highest and lowest opening prices during this period"
   ]
  },
  {
   "cell_type": "code",
   "execution_count": 7,
   "metadata": {},
   "outputs": [
    {
     "name": "stdout",
     "output_type": "stream",
     "text": [
      "In 2017, the lowest opening price was $34.0.\n",
      "In 2017, the highest opening price was $53.11.\n"
     ]
    }
   ],
   "source": [
    "# Get all of the opening values: AFX_open\n",
    "AFX_open = [item[1] for item in AFX_X_2017['dataset_data']['data'] if item[1] != None]\n",
    "AFX_min = str(min(AFX_open))\n",
    "print(\"In 2017, the lowest opening price was $\" + AFX_min + '.')\n",
    "\n",
    "AFX_max = str(max(AFX_open))\n",
    "print(\"In 2017, the highest opening price was $\" + AFX_max + '.')\n"
   ]
  },
  {
   "cell_type": "markdown",
   "metadata": {},
   "source": [
    "<b>#4: Calculate the largest change in any one day (based on High and Low price).</b>"
   ]
  },
  {
   "cell_type": "code",
   "execution_count": 8,
   "metadata": {},
   "outputs": [
    {
     "name": "stdout",
     "output_type": "stream",
     "text": [
      "In 2017, the largest change in any one day was $2.8100000000000023, or rounded, $2.81.\n"
     ]
    }
   ],
   "source": [
    "# Store the high values: AFX_high\n",
    "AFX_high = [item[2] for item in AFX_X_2017['dataset_data']['data']]\n",
    "\n",
    "# Store the low values: AFX_low\n",
    "AFX_low = [item[3] for item in AFX_X_2017['dataset_data']['data']]\n",
    "AFX_low\n",
    "\n",
    "# Calculate absolute change between two: AFX_change\n",
    "AFX_change = []\n",
    "for i, j in zip(AFX_high, AFX_low):\n",
    "    AFX_change.append(abs(i - j))\n",
    "    \n",
    "# Find the maximum: Max_AFX_change\n",
    "Max_AFX_change = max(AFX_change)\n",
    "Max_AFX_change_str = str(Max_AFX_change)\n",
    "Max_rounded = round(Max_AFX_change, 2)\n",
    "Max_rounded_str = str(Max_rounded)\n",
    "\n",
    "print(\"In 2017, the largest change in any one day was $\" + Max_AFX_change_str + \", or rounded, $\" + Max_rounded_str + \".\")"
   ]
  },
  {
   "cell_type": "markdown",
   "metadata": {},
   "source": [
    "<b> #5: Calculate the largest change between any two days (based on Closing price).</b>"
   ]
  },
  {
   "cell_type": "code",
   "execution_count": 9,
   "metadata": {},
   "outputs": [
    {
     "name": "stdout",
     "output_type": "stream",
     "text": [
      "The maximum change between two consecutive days was $2.559999999999995.\n"
     ]
    }
   ],
   "source": [
    "AFX_close = [item[4] for item in AFX_X_2017['dataset_data']['data']]\n",
    "\n",
    "# Calculate the differences between adjacent days: AFX_close_diff\n",
    "AFX_diff = [abs(x - AFX_close[i - 1]) for i, x in enumerate(AFX_close)][1:]\n",
    "Max_close_diff = max(AFX_diff)\n",
    "Max_close_diff = str(Max_close_diff)\n",
    "\n",
    "print(\"The maximum change between two consecutive days was $\" + Max_close_diff + \".\")"
   ]
  },
  {
   "cell_type": "markdown",
   "metadata": {},
   "source": [
    "<b>#6: Calculate the average daily trading volume for 2017.</b>"
   ]
  },
  {
   "cell_type": "code",
   "execution_count": 10,
   "metadata": {},
   "outputs": [
    {
     "name": "stdout",
     "output_type": "stream",
     "text": [
      "The average daily trading volume for 2017 was $89140.97619047618.\n"
     ]
    }
   ],
   "source": [
    "AFX_traded_volume = [item[6] for item in AFX_X_2017['dataset_data']['data'] if item[1] != None]\n",
    "\n",
    "# Calculate average trade volume: Avg_AFX_trade_volume\n",
    "Avg_AFX_trade_volume = sum(AFX_traded_volume) / len(AFX_traded_volume)\n",
    "Avg_AFX_trade_volume = str(Avg_AFX_trade_volume)\n",
    "\n",
    "print(\"The average daily trading volume for 2017 was $\" + Avg_AFX_trade_volume + \".\")"
   ]
  }
 ],
 "metadata": {
  "kernelspec": {
   "display_name": "Python 3",
   "language": "python",
   "name": "python3"
  },
  "language_info": {
   "codemirror_mode": {
    "name": "ipython",
    "version": 3
   },
   "file_extension": ".py",
   "mimetype": "text/x-python",
   "name": "python",
   "nbconvert_exporter": "python",
   "pygments_lexer": "ipython3",
   "version": "3.6.5"
  }
 },
 "nbformat": 4,
 "nbformat_minor": 2
}
