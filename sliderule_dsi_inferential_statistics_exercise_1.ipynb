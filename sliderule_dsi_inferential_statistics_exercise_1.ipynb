{
 "cells": [
  {
   "cell_type": "markdown",
   "metadata": {},
   "source": [
    "# What is the True Normal Human Body Temperature? \n",
    "\n",
    "#### Background\n",
    "\n",
    "The mean normal body temperature was held to be 37$^{\\circ}$C or 98.6$^{\\circ}$F for more than 120 years since it was first conceptualized and reported by Carl Wunderlich in a famous 1868 book. But, is this value statistically correct?"
   ]
  },
  {
   "cell_type": "markdown",
   "metadata": {},
   "source": [
    "<h3>Exercises</h3>\n",
    "\n",
    "<p>In this exercise, you will analyze a dataset of human body temperatures and employ the concepts of hypothesis testing, confidence intervals, and statistical significance.</p>\n",
    "\n",
    "<p>Answer the following questions <b>in this notebook below and submit to your Github account</b>.</p> \n",
    "\n",
    "<ol>\n",
    "<li>  Is the distribution of body temperatures normal? \n",
    "    <ul>\n",
    "    <li> Although this is not a requirement for the Central Limit Theorem to hold (read the introduction on Wikipedia's page about the CLT carefully: https://en.wikipedia.org/wiki/Central_limit_theorem), it gives us some peace of mind that the population may also be normally distributed if we assume that this sample is representative of the population.\n",
    "    <li> Think about the way you're going to check for the normality of the distribution. Graphical methods are usually used first, but there are also other ways: https://en.wikipedia.org/wiki/Normality_test\n",
    "    </ul>\n",
    "<li>  Is the sample size large? Are the observations independent?\n",
    "    <ul>\n",
    "    <li> Remember that this is a condition for the Central Limit Theorem, and hence the statistical tests we are using, to apply.\n",
    "    </ul>\n",
    "<li>  Is the true population mean really 98.6 degrees F?\n",
    "    <ul>\n",
    "    <li> First, try a bootstrap hypothesis test.\n",
    "    <li> Now, let's try frequentist statistical testing. Would you use a one-sample or two-sample test? Why?\n",
    "    <li> In this situation, is it appropriate to use the $t$ or $z$ statistic? \n",
    "    <li> Now try using the other test. How is the result be different? Why?\n",
    "    </ul>\n",
    "<li>  Draw a small sample of size 10 from the data and repeat both frequentist tests. \n",
    "    <ul>\n",
    "    <li> Which one is the correct one to use? \n",
    "    <li> What do you notice? What does this tell you about the difference in application of the $t$ and $z$ statistic?\n",
    "    </ul>\n",
    "<li>  At what temperature should we consider someone's temperature to be \"abnormal\"?\n",
    "    <ul>\n",
    "    <li> As in the previous example, try calculating everything using the boostrap approach, as well as the frequentist approach.\n",
    "    <li> Start by computing the margin of error and confidence interval. When calculating the confidence interval, keep in mind that you should use the appropriate formula for one draw, and not N draws.\n",
    "    </ul>\n",
    "<li>  Is there a significant difference between males and females in normal temperature?\n",
    "    <ul>\n",
    "    <li> What testing approach did you use and why?\n",
    "    <li> Write a story with your conclusion in the context of the original problem.\n",
    "    </ul>\n",
    "</ol>\n",
    "\n",
    "You can include written notes in notebook cells using Markdown: \n",
    "   - In the control panel at the top, choose Cell > Cell Type > Markdown\n",
    "   - Markdown syntax: http://nestacms.com/docs/creating-content/markdown-cheat-sheet\n",
    "\n",
    "#### Resources\n",
    "\n",
    "+ Information and data sources: http://www.amstat.org/publications/jse/datasets/normtemp.txt, http://www.amstat.org/publications/jse/jse_data_archive.htm\n",
    "+ Markdown syntax: http://nestacms.com/docs/creating-content/markdown-cheat-sheet\n",
    "\n",
    "****"
   ]
  },
  {
   "cell_type": "code",
   "execution_count": 1,
   "metadata": {},
   "outputs": [],
   "source": [
    "import numpy as np\n",
    "import pandas as pd\n",
    "import matplotlib.pyplot as plt\n",
    "import scipy\n",
    "from scipy import stats\n",
    "\n",
    "df = pd.read_csv('data/human_body_temperature.csv')"
   ]
  },
  {
   "cell_type": "code",
   "execution_count": 2,
   "metadata": {},
   "outputs": [
    {
     "data": {
      "text/html": [
       "<div>\n",
       "<style scoped>\n",
       "    .dataframe tbody tr th:only-of-type {\n",
       "        vertical-align: middle;\n",
       "    }\n",
       "\n",
       "    .dataframe tbody tr th {\n",
       "        vertical-align: top;\n",
       "    }\n",
       "\n",
       "    .dataframe thead th {\n",
       "        text-align: right;\n",
       "    }\n",
       "</style>\n",
       "<table border=\"1\" class=\"dataframe\">\n",
       "  <thead>\n",
       "    <tr style=\"text-align: right;\">\n",
       "      <th></th>\n",
       "      <th>temperature</th>\n",
       "      <th>gender</th>\n",
       "      <th>heart_rate</th>\n",
       "    </tr>\n",
       "  </thead>\n",
       "  <tbody>\n",
       "    <tr>\n",
       "      <th>0</th>\n",
       "      <td>99.3</td>\n",
       "      <td>F</td>\n",
       "      <td>68.0</td>\n",
       "    </tr>\n",
       "    <tr>\n",
       "      <th>1</th>\n",
       "      <td>98.4</td>\n",
       "      <td>F</td>\n",
       "      <td>81.0</td>\n",
       "    </tr>\n",
       "    <tr>\n",
       "      <th>2</th>\n",
       "      <td>97.8</td>\n",
       "      <td>M</td>\n",
       "      <td>73.0</td>\n",
       "    </tr>\n",
       "    <tr>\n",
       "      <th>3</th>\n",
       "      <td>99.2</td>\n",
       "      <td>F</td>\n",
       "      <td>66.0</td>\n",
       "    </tr>\n",
       "    <tr>\n",
       "      <th>4</th>\n",
       "      <td>98.0</td>\n",
       "      <td>F</td>\n",
       "      <td>73.0</td>\n",
       "    </tr>\n",
       "  </tbody>\n",
       "</table>\n",
       "</div>"
      ],
      "text/plain": [
       "   temperature gender  heart_rate\n",
       "0         99.3      F        68.0\n",
       "1         98.4      F        81.0\n",
       "2         97.8      M        73.0\n",
       "3         99.2      F        66.0\n",
       "4         98.0      F        73.0"
      ]
     },
     "execution_count": 2,
     "metadata": {},
     "output_type": "execute_result"
    }
   ],
   "source": [
    "df.head()"
   ]
  },
  {
   "cell_type": "markdown",
   "metadata": {},
   "source": [
    "<span style=\"color:blue\"><b>#1. Is the distribution of body temperatures normal?</b></span>\n",
    "\n",
    "One of the first steps we can take to get a sense of the data is visualization, for example, with a <b>histogram.</b> To determine the number of bins to use in a histogram, an easy rule-of-thumb is to take the square root of the number of observations.\n"
   ]
  },
  {
   "cell_type": "code",
   "execution_count": 3,
   "metadata": {},
   "outputs": [
    {
     "name": "stdout",
     "output_type": "stream",
     "text": [
      "130\n"
     ]
    }
   ],
   "source": [
    "# Number of observations in the dataframe\n",
    "print(len(df))"
   ]
  },
  {
   "cell_type": "markdown",
   "metadata": {},
   "source": [
    "The square root of n=130 is 11.4, so we'll round to 12 bins."
   ]
  },
  {
   "cell_type": "code",
   "execution_count": 4,
   "metadata": {},
   "outputs": [
    {
     "data": {
      "image/png": "[encoded data removed]",
      "text/plain": [
       "<Figure size 432x288 with 1 Axes>"
      ]
     },
     "metadata": {},
     "output_type": "display_data"
    }
   ],
   "source": [
    "# Plot the temperature data\n",
    "df['temperature'].plot(kind='hist', bins=12)\n",
    "\n",
    "# Display the histogram\n",
    "plt.show()"
   ]
  },
  {
   "cell_type": "code",
   "execution_count": 5,
   "metadata": {},
   "outputs": [
    {
     "name": "stdout",
     "output_type": "stream",
     "text": [
      "(0.9865769743919373, 0.2331680953502655)\n"
     ]
    }
   ],
   "source": [
    "# Conduct Shapiro-Wilks test for normality\n",
    "data = df['temperature']\n",
    "shapiro_results = scipy.stats.shapiro(data)\n",
    "\n",
    "print(shapiro_results)"
   ]
  },
  {
   "cell_type": "markdown",
   "metadata": {},
   "source": [
    "The distribution of the data looks roughly normal with no obvious signs of skew. The sample size is also greater than or equal to 30, which also supports our assumption of the normality of the distribution.\n",
    "\n",
    "Further, the Shapiro-Wilks test for normality returned a test statistic of 98.66 and a p-value of 0.23. Assuming our alpha level is 0.05, 0.23 is greater than this, so we retain the null hypothesis of the test, namely that the data are sampled from a <b>normal distribution</b>.\n",
    "\n",
    "<span style=\"color:blue\"><b>#2. Is the sample size large? Are the observations independent?</b></span>\n",
    "\n",
    "The sample size is greater than or equal to 30, so it's of a sufficient size. If the population of interest is human beings, the sample can't really be considered large. However, it does help with meeting the assumption of <b>independence</b>, as from the description above, we do not know whether the data were collected with or without replacement from the original population of interest. However, we can assume that if the population is humans, broadly speaking, the sample size of 130 is most certainly less than or equal to 10% of the population. This tells us that we can treat the observations as independent."
   ]
  },
  {
   "cell_type": "markdown",
   "metadata": {},
   "source": [
    "<span style=\"color:blue\"><b>#3.  Is the true population mean really 98.6 degrees F?</b></span>\n",
    "\n",
    "</b>First, try a bootstrap hypothesis test.</b>"
   ]
  },
  {
   "cell_type": "code",
   "execution_count": 6,
   "metadata": {},
   "outputs": [],
   "source": [
    "def bootstrap_replicate_1d(data, func):\n",
    "    return func(np.random.choice(data, size=len(data)))"
   ]
  },
  {
   "cell_type": "code",
   "execution_count": 7,
   "metadata": {},
   "outputs": [],
   "source": [
    "def draw_bs_reps(data, func, size=1):\n",
    "    \"\"\"Draw bootstrap replicates.\"\"\"\n",
    "\n",
    "    # Initialize array of replicates: bs_replicates\n",
    "    bs_replicates = np.empty(size)\n",
    "\n",
    "    # Generate replicates\n",
    "    for i in range(size):\n",
    "        bs_replicates[i] = bootstrap_replicate_1d(data, func)\n",
    "\n",
    "    return bs_replicates"
   ]
  },
  {
   "cell_type": "markdown",
   "metadata": {},
   "source": [
    "In order to conduct an hypothesis test, we should first spell out both the null and alternative hypotheses:\n",
    "\n",
    "H0 (null hypothesis): The true population mean temperature is 98.6 degrees.\n",
    "\n",
    "H1 (alternative hypothesis): The true population mean temperature is not 98.6 degrees."
   ]
  },
  {
   "cell_type": "code",
   "execution_count": 8,
   "metadata": {},
   "outputs": [
    {
     "name": "stdout",
     "output_type": "stream",
     "text": [
      "mean body temperature (in Fahrenheit) = 98.24923076923078  degrees\n",
      "95% confidence interval = [98.12461538 98.37384615]  degrees\n"
     ]
    }
   ],
   "source": [
    "# Conduct the hypothesis test\n",
    "np.random.seed(42)\n",
    "\n",
    "# Compute mean of combined data set: combined_mean\n",
    "temp_mean = np.mean(df['temperature'])\n",
    "\n",
    "# Get bootstrap replicates \n",
    "bs_replicates_temp = draw_bs_reps(df['temperature'], np.mean, 10000)\n",
    "\n",
    "# Compute 95% confidence interval: CI\n",
    "CI = np.percentile(bs_replicates_temp, [2.5, 97.5])\n",
    "\n",
    "# Print the results\n",
    "print('mean body temperature (in Fahrenheit) =', temp_mean, ' degrees')\n",
    "print('95% confidence interval =', CI, ' degrees')\n"
   ]
  },
  {
   "cell_type": "markdown",
   "metadata": {},
   "source": [
    "With this confidence interval, we can say with 95% certainty that the true mean body temperature of the population of interest is between 98.12 and 98.37 degrees. With this, <b>we can reject the null hypothesis</b> that the mean body temperature is 98.6 degrees."
   ]
  },
  {
   "cell_type": "markdown",
   "metadata": {},
   "source": [
    "<b>Now, let's try frequentist statistical testing. Would you use a one-sample or two-sample test? Why?</b>\n",
    "\n",
    "We would use <b>a one-sample test</b>, because the data include a single simple random sample. We want to know whether the mean of the sample deviates from some assumed value--in this case, a mean body temperature of 98.6 degrees."
   ]
  },
  {
   "cell_type": "markdown",
   "metadata": {},
   "source": [
    "<b>In this situation, is it appropriate to use the t or z statistic?</b>\n",
    "\n",
    "In this situation, we want to use a <b>t statistic</b>, because we are using a sample mean. The true population mean is unknown to us, making a z statistic inappropriate. What we have is not the actual population mean, but an approximation of it."
   ]
  },
  {
   "cell_type": "code",
   "execution_count": 9,
   "metadata": {},
   "outputs": [
    {
     "name": "stdout",
     "output_type": "stream",
     "text": [
      "-5.475925202078116\n"
     ]
    }
   ],
   "source": [
    "# Compute the sample standard deviation\n",
    "temp_std = np.std(df['temperature'])\n",
    "\n",
    "# Compute the t statistic\n",
    "t = (temp_mean - 98.6)/(temp_std/np.sqrt(len(df['temperature'])))\n",
    "print(t)"
   ]
  },
  {
   "cell_type": "markdown",
   "metadata": {},
   "source": [
    "Using a t-table, we can look up the critical value to indicate significance at alpha=0.05 for a 95% confidence interval. Using the table, we see that at 100 degrees of freedom, the critical value is +/-1.984; with our 99 degrees of freedom (n-1 = 100-1), the value we calculated for t is more extreme than the critical value, so we can again <b>reject the null hypothesis</b> as we did above.\n",
    "\n",
    "<b>Now try using the other test. How is the result be different? Why?</b>"
   ]
  },
  {
   "cell_type": "code",
   "execution_count": 10,
   "metadata": {},
   "outputs": [
    {
     "name": "stdout",
     "output_type": "stream",
     "text": [
      "-0.48027041116080765\n"
     ]
    }
   ],
   "source": [
    "# Compute the z statistic\n",
    "z = (temp_mean - 98.6)/temp_std\n",
    "print(z)"
   ]
  },
  {
   "cell_type": "markdown",
   "metadata": {},
   "source": [
    "Lots of issues with this. In order to calculate the z statistic, we need to know the population standard deviation, and we don't know this (we usually don't know this). In its stead, we can use an approximation, or the sample standard deviation. But, the formula for calculating a t statistic accounts for the sample size by dividing the sample standard deviation by the square root of the sample size, whereas the formula for the z statistic does not (because the assumptions about which population parameters are known are different in each equation).  \n",
    "\n",
    "<span style=\"color:blue\"><b>#4: Draw a small sample of size 10 from the data and repeat both frequentist tests.</b></span>\n",
    "\n",
    "<b>Which one is the correct one to use?</b>\n",
    "\n",
    "For the small sample of size 10, if we are assuming that the data is the population, we can calculate a z statistic. Under this assumption, the population parameters would be known to us."
   ]
  },
  {
   "cell_type": "code",
   "execution_count": 11,
   "metadata": {},
   "outputs": [
    {
     "name": "stdout",
     "output_type": "stream",
     "text": [
      "z statistic =  -0.27278516774267797\n",
      "t statistic =  -0.8626224419779547\n"
     ]
    }
   ],
   "source": [
    "# Set seed\n",
    "np.random.seed(42)\n",
    "\n",
    "# Draw the random sample\n",
    "temp_sample = np.random.choice(df['temperature'], size=10)\n",
    "\n",
    "# Calculate the sample mean\n",
    "temp_sample_mean = np.mean(temp_sample)\n",
    "\n",
    "# Calculate the z statistic\n",
    "z = str((temp_sample_mean - temp_mean)/temp_std)\n",
    "\n",
    "# Calculate the t statistic\n",
    "t = str((temp_sample_mean - temp_mean)/(temp_std/np.sqrt(len(temp_sample))))\n",
    "\n",
    "# Print results\n",
    "print('z statistic = ', z)\n",
    "print('t statistic = ', t)"
   ]
  },
  {
   "cell_type": "markdown",
   "metadata": {},
   "source": [
    "<b>What do you notice? What does this tell you about the difference in application of the t and z statistic?</b>\n",
    "\n",
    "Like the previous calculation, the z statistic is closer to 0 than the t statistic. From both, as well, we see that the results of both are very different numbers, underscoring the importance of correctly selecting a test for the data and sample at hand."
   ]
  },
  {
   "cell_type": "markdown",
   "metadata": {},
   "source": [
    "<span style=\"color:blue\"><b>#5. At what temperature should we consider someone's temperature to be \"abnormal\"?</b></span>\n",
    "\n",
    "As in the previous example, try calculating everything using the bootstrap approach, as well as the frequentist approach.\n",
    "Start by computing the margin of error and confidence interval. When calculating the confidence interval, keep in mind that you should use the appropriate formula for one draw, and not N draws."
   ]
  },
  {
   "cell_type": "code",
   "execution_count": 12,
   "metadata": {},
   "outputs": [
    {
     "name": "stdout",
     "output_type": "stream",
     "text": [
      "margin of error =  0.12722628871376737  degrees\n",
      "mean body temperature (in Fahrenheit) = 98.24923076923078  degrees\n",
      "95% confidence interval = [98.12461538 98.37384615]  degrees\n"
     ]
    }
   ],
   "source": [
    "# Look up df=129, alpha=0.05 (for two tails); compute margin of error for one sample\n",
    "margin_of_error = 1.9785 * (temp_std/np.sqrt(129))\n",
    "\n",
    "# Compute 95% confidence interval: CI\n",
    "CI = np.percentile(bs_replicates_temp, [2.5, 97.5])\n",
    "\n",
    "# Print the results\n",
    "print('margin of error = ', margin_of_error, ' degrees')\n",
    "print('mean body temperature (in Fahrenheit) =', temp_mean, ' degrees')\n",
    "print('95% confidence interval =', CI, ' degrees')\n"
   ]
  },
  {
   "cell_type": "markdown",
   "metadata": {},
   "source": [
    "Someone's body temperature would be considered abnormal if it were below the lowest bound of the confidence interval minus the margin of error--97.99 degrees--or above the highest bound of the confidence interval plus the margin of error--98.5 degrees."
   ]
  },
  {
   "cell_type": "markdown",
   "metadata": {},
   "source": [
    "<span style=\"color:blue\"><b>#6. Is there a significant difference between males and females in normal temperature?</b></span>\n",
    "\n",
    "H0 (null hypothesis): The difference between males and females in normal temperature is 0.\n",
    "\n",
    "H1 (alternative hypothesis): The difference between males and females in normal temperature is not 0."
   ]
  },
  {
   "cell_type": "code",
   "execution_count": 13,
   "metadata": {},
   "outputs": [
    {
     "data": {
      "text/plain": [
       "Ttest_indResult(statistic=-2.285434538165611, pvalue=0.023938264182934196)"
      ]
     },
     "execution_count": 13,
     "metadata": {},
     "output_type": "execute_result"
    }
   ],
   "source": [
    "# Subset the data: male_data, female_data\n",
    "male_data = df[df['gender'] == 'M']\n",
    "female_data = df[df['gender'] == 'F']\n",
    "\n",
    "# Conduct t-test\n",
    "stats.ttest_ind(male_data['temperature'], female_data['temperature'], equal_var = False)"
   ]
  },
  {
   "cell_type": "markdown",
   "metadata": {},
   "source": [
    "<b>What testing approach did you use and why?</b>\n",
    "\n",
    "I used a frequentist approach, specifically a two-samples t-test. The question was whether there was a significant difference between male and female body temperature, and a two-samples t-test tests this.\n",
    "\n",
    "<b>Write a story with your conclusion in the context of the original problem.</b>\n",
    "\n",
    "Although Wunderlich's results reported an average human body temperature of 98.6 degrees, further tests indicate that this value is not statistically correct. Namely, based on the sample data provided here, we can be 95% confident that the true mean human body temperature lies lower than the report 98.6 degrees, between 98.12 and 98.37 degrees. However, knowing what we do about population parameters, it's not impossible that the true mean is 98.6, just that the data provided here indicate otherwise."
   ]
  }
 ],
 "metadata": {
  "kernelspec": {
   "display_name": "Python 3",
   "language": "python",
   "name": "python3"
  },
  "language_info": {
   "codemirror_mode": {
    "name": "ipython",
    "version": 3
   },
   "file_extension": ".py",
   "mimetype": "text/x-python",
   "name": "python",
   "nbconvert_exporter": "python",
   "pygments_lexer": "ipython3",
   "version": "3.6.5"
  }
 },
 "nbformat": 4,
 "nbformat_minor": 1
}
